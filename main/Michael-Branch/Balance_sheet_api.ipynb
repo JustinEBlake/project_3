{
 "cells": [
  {
   "cell_type": "code",
   "execution_count": 3,
   "id": "02164c59",
   "metadata": {},
   "outputs": [
    {
     "ename": "ImportError",
     "evalue": "cannot import name 'requests' from 'requests' (/Users/michaelpond/anaconda3/envs/dev/lib/python3.10/site-packages/requests/__init__.py)",
     "output_type": "error",
     "traceback": [
      "\u001b[0;31m---------------------------------------------------------------------------\u001b[0m",
      "\u001b[0;31mImportError\u001b[0m                               Traceback (most recent call last)",
      "Cell \u001b[0;32mIn[3], line 1\u001b[0m\n\u001b[0;32m----> 1\u001b[0m \u001b[38;5;28;01mfrom\u001b[39;00m \u001b[38;5;21;01mrequests\u001b[39;00m \u001b[38;5;28;01mimport\u001b[39;00m requests\n",
      "\u001b[0;31mImportError\u001b[0m: cannot import name 'requests' from 'requests' (/Users/michaelpond/anaconda3/envs/dev/lib/python3.10/site-packages/requests/__init__.py)"
     ]
    }
   ],
   "source": [
    "from requests import requests\n"
   ]
  },
  {
   "cell_type": "code",
   "execution_count": 2,
   "id": "b29ff749",
   "metadata": {},
   "outputs": [
    {
     "ename": "NameError",
     "evalue": "name 'requests' is not defined",
     "output_type": "error",
     "traceback": [
      "\u001b[0;31m---------------------------------------------------------------------------\u001b[0m",
      "\u001b[0;31mNameError\u001b[0m                                 Traceback (most recent call last)",
      "Cell \u001b[0;32mIn[2], line 2\u001b[0m\n\u001b[1;32m      1\u001b[0m url \u001b[38;5;241m=\u001b[39m \u001b[38;5;124m\"\u001b[39m\u001b[38;5;124mhttps://www.alphavantage.co/query?\u001b[39m\u001b[38;5;124m\"\u001b[39m\n\u001b[0;32m----> 2\u001b[0m response \u001b[38;5;241m=\u001b[39m \u001b[43mrequests\u001b[49m\u001b[38;5;241m.\u001b[39mget(url)\n\u001b[1;32m      3\u001b[0m tsla \u001b[38;5;241m=\u001b[39m response\u001b[38;5;241m.\u001b[39mjson()\n\u001b[1;32m      4\u001b[0m API_KEY \u001b[38;5;241m=\u001b[39m \u001b[38;5;124m\"\u001b[39m\u001b[38;5;124mR9B64ZQGU1FF0DWH\u001b[39m\u001b[38;5;124m\"\u001b[39m\n",
      "\u001b[0;31mNameError\u001b[0m: name 'requests' is not defined"
     ]
    }
   ],
   "source": [
    "url = \"https://www.alphavantage.co/query?\"\n",
    "response = requests.get(url)\n",
    "tsla = response.json()\n",
    "API_KEY = \"R9B64ZQGU1FF0DWH\""
   ]
  },
  {
   "cell_type": "code",
   "execution_count": null,
   "id": "04a7497e",
   "metadata": {},
   "outputs": [],
   "source": [
    "params = {\n",
    "    \"function\": \"BALANCE_SHEET\",\n",
    "    \"symbol\": \"TSLA\",\n",
    "    \"datatype\": \"json\",\n",
    "    \"apikey\": API_KEY\n",
    "}"
   ]
  }
 ],
 "metadata": {
  "kernelspec": {
   "display_name": "Python 3 (ipykernel)",
   "language": "python",
   "name": "python3"
  },
  "language_info": {
   "codemirror_mode": {
    "name": "ipython",
    "version": 3
   },
   "file_extension": ".py",
   "mimetype": "text/x-python",
   "name": "python",
   "nbconvert_exporter": "python",
   "pygments_lexer": "ipython3",
   "version": "3.10.13"
  }
 },
 "nbformat": 4,
 "nbformat_minor": 5
}
