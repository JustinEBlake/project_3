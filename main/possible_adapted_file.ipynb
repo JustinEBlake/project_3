{
 "cells": [
  {
   "cell_type": "code",
   "execution_count": 1,
   "metadata": {},
   "outputs": [],
   "source": [
    "import pandas as pd\n",
    "import sqlite3"
   ]
  },
  {
   "cell_type": "code",
   "execution_count": 2,
   "metadata": {},
   "outputs": [],
   "source": [
    "def get_filtered_data(input):\n",
    "    sql_query = f\"SELECT * FROM your_table {input};\"\n",
    "    \n",
    "    connection = sqlite3.connect(\"your_database.db\")\n",
    "    cursor = connection.cursor()\n",
    "    cursor.execute(sql_query)\n",
    "    \n",
    "    filtered_data = cursor.fetchall()\n",
    "    \n",
    "    connection.close()\n",
    "    \n",
    "    return filtered_data\n",
    "    "
   ]
  },
  {
   "cell_type": "code",
   "execution_count": 3,
   "metadata": {},
   "outputs": [],
   "source": [
    "def create_dataframe(filtered_data):\n",
    "    df = pd.DataFrame(filtered_data, columns=[desc[0] for desc in cursor.description])\n",
    "\n",
    "    return df"
   ]
  },
  {
   "cell_type": "code",
   "execution_count": null,
   "metadata": {},
   "outputs": [],
   "source": [
    "if __name__ == \"__main__\":\n",
    "    #input\n",
    "    user_input = input(\"Enter filter criteria (e.g., WHERE condition): \")\n",
    "\n",
    "    #extract\n",
    "    filtered_data = get_filtered_data(user_input)\n",
    "\n",
    "    #create df\n",
    "    df = create_dataframe(filtered_data)\n",
    "    print(df)"
   ]
  }
 ],
 "metadata": {
  "kernelspec": {
   "display_name": "dev",
   "language": "python",
   "name": "python3"
  },
  "language_info": {
   "codemirror_mode": {
    "name": "ipython",
    "version": 3
   },
   "file_extension": ".py",
   "mimetype": "text/x-python",
   "name": "python",
   "nbconvert_exporter": "python",
   "pygments_lexer": "ipython3",
   "version": "3.11.5"
  }
 },
 "nbformat": 4,
 "nbformat_minor": 2
}
